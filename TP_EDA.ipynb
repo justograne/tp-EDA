{
  "cells": [
    {
      "cell_type": "markdown",
      "metadata": {
        "id": "wUsM6WKTlNke"
      },
      "source": [
        "# EDA jugadores de Fifa\n",
        "En este informe se busca analizar... \n",
        "### (Escribir proposito del informe)\n",
        "puede ser algo tipo identificar las variables clave para predecir el precio de un jugador y observar el efecto de estas variables sobre el precio.\n"
      ]
    },
    {
      "cell_type": "markdown",
      "metadata": {
        "id": "DrMPMJywlo18"
      },
      "source": [
        "## Analisis preliminar de base de datos\n",
        "Primero, importo las librerías a utilizar en el análisis."
      ]
    },
    {
      "cell_type": "code",
      "execution_count": 2,
      "metadata": {},
      "outputs": [],
      "source": [
        "import pandas as pd\n",
        "import numpy as np\n",
        "import seaborn as sns                       #visualisation\n",
        "import matplotlib.pyplot as plt             #visualisation\n",
        "%matplotlib inline     \n",
        "sns.set(color_codes=True)"
      ]
    },
    {
      "cell_type": "markdown",
      "metadata": {},
      "source": [
        "Luego, descargo la base de datos y obtengo una primera imagen sobre que contiene"
      ]
    },
    {
      "cell_type": "code",
      "execution_count": 3,
      "metadata": {
        "colab": {
          "base_uri": "https://localhost:8080/",
          "height": 441
        },
        "id": "ZzN9qqVYi1gI",
        "outputId": "3d88eefa-3878-4434-f711-1b33ca9a30fd"
      },
      "outputs": [
        {
          "name": "stdout",
          "output_type": "stream",
          "text": [
            "(18944, 106)\n"
          ]
        },
        {
          "data": {
            "text/html": [
              "<div>\n",
              "<style scoped>\n",
              "    .dataframe tbody tr th:only-of-type {\n",
              "        vertical-align: middle;\n",
              "    }\n",
              "\n",
              "    .dataframe tbody tr th {\n",
              "        vertical-align: top;\n",
              "    }\n",
              "\n",
              "    .dataframe thead th {\n",
              "        text-align: right;\n",
              "    }\n",
              "</style>\n",
              "<table border=\"1\" class=\"dataframe\">\n",
              "  <thead>\n",
              "    <tr style=\"text-align: right;\">\n",
              "      <th></th>\n",
              "      <th>0</th>\n",
              "      <th>1</th>\n",
              "      <th>2</th>\n",
              "      <th>3</th>\n",
              "    </tr>\n",
              "  </thead>\n",
              "  <tbody>\n",
              "    <tr>\n",
              "      <th>sofifa_id</th>\n",
              "      <td>158023</td>\n",
              "      <td>20801</td>\n",
              "      <td>200389</td>\n",
              "      <td>188545</td>\n",
              "    </tr>\n",
              "    <tr>\n",
              "      <th>player_url</th>\n",
              "      <td>https://sofifa.com/player/158023/lionel-messi/...</td>\n",
              "      <td>https://sofifa.com/player/20801/c-ronaldo-dos-...</td>\n",
              "      <td>https://sofifa.com/player/200389/jan-oblak/210002</td>\n",
              "      <td>https://sofifa.com/player/188545/robert-lewand...</td>\n",
              "    </tr>\n",
              "    <tr>\n",
              "      <th>short_name</th>\n",
              "      <td>L. Messi</td>\n",
              "      <td>Cristiano Ronaldo</td>\n",
              "      <td>J. Oblak</td>\n",
              "      <td>R. Lewandowski</td>\n",
              "    </tr>\n",
              "    <tr>\n",
              "      <th>long_name</th>\n",
              "      <td>Lionel Andrés Messi Cuccittini</td>\n",
              "      <td>Cristiano Ronaldo dos Santos Aveiro</td>\n",
              "      <td>Jan Oblak</td>\n",
              "      <td>Robert Lewandowski</td>\n",
              "    </tr>\n",
              "    <tr>\n",
              "      <th>age</th>\n",
              "      <td>33</td>\n",
              "      <td>35</td>\n",
              "      <td>27</td>\n",
              "      <td>31</td>\n",
              "    </tr>\n",
              "    <tr>\n",
              "      <th>...</th>\n",
              "      <td>...</td>\n",
              "      <td>...</td>\n",
              "      <td>...</td>\n",
              "      <td>...</td>\n",
              "    </tr>\n",
              "    <tr>\n",
              "      <th>lb</th>\n",
              "      <td>62+3</td>\n",
              "      <td>61+3</td>\n",
              "      <td>32+3</td>\n",
              "      <td>61+3</td>\n",
              "    </tr>\n",
              "    <tr>\n",
              "      <th>lcb</th>\n",
              "      <td>52+3</td>\n",
              "      <td>54+3</td>\n",
              "      <td>33+3</td>\n",
              "      <td>60+3</td>\n",
              "    </tr>\n",
              "    <tr>\n",
              "      <th>cb</th>\n",
              "      <td>52+3</td>\n",
              "      <td>54+3</td>\n",
              "      <td>33+3</td>\n",
              "      <td>60+3</td>\n",
              "    </tr>\n",
              "    <tr>\n",
              "      <th>rcb</th>\n",
              "      <td>52+3</td>\n",
              "      <td>54+3</td>\n",
              "      <td>33+3</td>\n",
              "      <td>60+3</td>\n",
              "    </tr>\n",
              "    <tr>\n",
              "      <th>rb</th>\n",
              "      <td>62+3</td>\n",
              "      <td>61+3</td>\n",
              "      <td>32+3</td>\n",
              "      <td>61+3</td>\n",
              "    </tr>\n",
              "  </tbody>\n",
              "</table>\n",
              "<p>106 rows × 4 columns</p>\n",
              "</div>"
            ],
            "text/plain": [
              "                                                            0  \\\n",
              "sofifa_id                                              158023   \n",
              "player_url  https://sofifa.com/player/158023/lionel-messi/...   \n",
              "short_name                                           L. Messi   \n",
              "long_name                      Lionel Andrés Messi Cuccittini   \n",
              "age                                                        33   \n",
              "...                                                       ...   \n",
              "lb                                                       62+3   \n",
              "lcb                                                      52+3   \n",
              "cb                                                       52+3   \n",
              "rcb                                                      52+3   \n",
              "rb                                                       62+3   \n",
              "\n",
              "                                                            1  \\\n",
              "sofifa_id                                               20801   \n",
              "player_url  https://sofifa.com/player/20801/c-ronaldo-dos-...   \n",
              "short_name                                  Cristiano Ronaldo   \n",
              "long_name                 Cristiano Ronaldo dos Santos Aveiro   \n",
              "age                                                        35   \n",
              "...                                                       ...   \n",
              "lb                                                       61+3   \n",
              "lcb                                                      54+3   \n",
              "cb                                                       54+3   \n",
              "rcb                                                      54+3   \n",
              "rb                                                       61+3   \n",
              "\n",
              "                                                            2  \\\n",
              "sofifa_id                                              200389   \n",
              "player_url  https://sofifa.com/player/200389/jan-oblak/210002   \n",
              "short_name                                           J. Oblak   \n",
              "long_name                                           Jan Oblak   \n",
              "age                                                        27   \n",
              "...                                                       ...   \n",
              "lb                                                       32+3   \n",
              "lcb                                                      33+3   \n",
              "cb                                                       33+3   \n",
              "rcb                                                      33+3   \n",
              "rb                                                       32+3   \n",
              "\n",
              "                                                            3  \n",
              "sofifa_id                                              188545  \n",
              "player_url  https://sofifa.com/player/188545/robert-lewand...  \n",
              "short_name                                     R. Lewandowski  \n",
              "long_name                                  Robert Lewandowski  \n",
              "age                                                        31  \n",
              "...                                                       ...  \n",
              "lb                                                       61+3  \n",
              "lcb                                                      60+3  \n",
              "cb                                                       60+3  \n",
              "rcb                                                      60+3  \n",
              "rb                                                       61+3  \n",
              "\n",
              "[106 rows x 4 columns]"
            ]
          },
          "execution_count": 3,
          "metadata": {},
          "output_type": "execute_result"
        }
      ],
      "source": [
        "import pandas as pd\n",
        "\n",
        "\n",
        "df = pd.read_csv(\"./footballData.csv\")\n",
        "nombres = df['long_name']\n",
        "\n",
        "print(df.shape)\n",
        "df.head(4).transpose()"
      ]
    },
    {
      "cell_type": "markdown",
      "metadata": {
        "id": "8P2y7ANdl1nB"
      },
      "source": [
        "En el análisis preliminar se observa que la data contiene 106 columnas y 18944 filas.\n",
        "Por ende, primero se debe identificar que columnas son claves para el análisis y descartar las demás."
      ]
    },
    {
      "cell_type": "code",
      "execution_count": 4,
      "metadata": {
        "colab": {
          "base_uri": "https://localhost:8080/"
        },
        "id": "ghcW905RlKYj",
        "outputId": "2e5fa186-d880-4406-d229-14e15b9a1f24"
      },
      "outputs": [
        {
          "data": {
            "text/plain": [
              "sofifa_id      int64\n",
              "player_url    object\n",
              "short_name    object\n",
              "long_name     object\n",
              "age            int64\n",
              "               ...  \n",
              "lb            object\n",
              "lcb           object\n",
              "cb            object\n",
              "rcb           object\n",
              "rb            object\n",
              "Length: 106, dtype: object"
            ]
          },
          "execution_count": 4,
          "metadata": {},
          "output_type": "execute_result"
        }
      ],
      "source": [
        "df.dtypes"
      ]
    },
    {
      "cell_type": "code",
      "execution_count": 5,
      "metadata": {
        "colab": {
          "base_uri": "https://localhost:8080/"
        },
        "id": "1Dji3oodsQK-",
        "outputId": "6a322662-4c64-4167-fac7-7597d7c3f31b"
      },
      "outputs": [
        {
          "data": {
            "text/plain": [
              "club_name                 225\n",
              "league_name               225\n",
              "league_rank               225\n",
              "release_clause_eur        995\n",
              "player_tags             17536\n",
              "team_position             225\n",
              "team_jersey_number        225\n",
              "loaned_from             18186\n",
              "joined                    983\n",
              "contract_valid_until      225\n",
              "nation_position         17817\n",
              "nation_jersey_number    17817\n",
              "pace                     2083\n",
              "shooting                 2083\n",
              "passing                  2083\n",
              "dribbling                2083\n",
              "defending                2083\n",
              "physic                   2083\n",
              "gk_diving               16861\n",
              "gk_handling             16861\n",
              "gk_kicking              16861\n",
              "gk_reflexes             16861\n",
              "gk_speed                16861\n",
              "gk_positioning          16861\n",
              "player_traits           10629\n",
              "defending_marking       18944\n",
              "dtype: int64"
            ]
          },
          "execution_count": 5,
          "metadata": {},
          "output_type": "execute_result"
        }
      ],
      "source": [
        "df.loc[:,df.isnull().any()].isnull().sum()"
      ]
    },
    {
      "cell_type": "markdown",
      "metadata": {
        "id": "bhjuBl2cvOyf"
      },
      "source": [
        "Al observar las columnas con valores faltantes, y cuantos les faltan, se observa cierta relación entre estas.\n",
        "Se observan muchos valores faltantes para los traits de arquero, por ende, se decide descartar los arqueros y las columnas con su respectiva información del modelo. Esto es porque se considera que los arqueros requerirían un análisis por separado."
      ]
    },
    {
      "cell_type": "markdown",
      "metadata": {
        "id": "WRDV2k4EDh2i"
      },
      "source": [
        "#### Analizo las columnas short_name, long_name y sofifa_id"
      ]
    },
    {
      "cell_type": "code",
      "execution_count": 6,
      "metadata": {
        "colab": {
          "base_uri": "https://localhost:8080/"
        },
        "id": "JFtf1fg84dzD",
        "outputId": "699f0f5c-1e04-467b-aeb9-aee80ece7d12"
      },
      "outputs": [
        {
          "data": {
            "text/plain": [
              "1060"
            ]
          },
          "execution_count": 6,
          "metadata": {},
          "output_type": "execute_result"
        }
      ],
      "source": [
        "df.loc[df['short_name'].duplicated(), 'short_name'].count()"
      ]
    },
    {
      "cell_type": "code",
      "execution_count": 7,
      "metadata": {
        "colab": {
          "base_uri": "https://localhost:8080/"
        },
        "id": "WFoYrqdt6VGO",
        "outputId": "17176b32-5425-4897-ff72-c0cb1582f5a4"
      },
      "outputs": [
        {
          "data": {
            "text/plain": [
              "48"
            ]
          },
          "execution_count": 7,
          "metadata": {},
          "output_type": "execute_result"
        }
      ],
      "source": [
        "df.loc[df['long_name'].duplicated(), 'long_name'].count()"
      ]
    },
    {
      "cell_type": "code",
      "execution_count": 8,
      "metadata": {
        "colab": {
          "base_uri": "https://localhost:8080/"
        },
        "id": "Yylss9dB65XZ",
        "outputId": "a49e4e6b-12fa-4e1a-c6a8-c3880a7130db"
      },
      "outputs": [
        {
          "data": {
            "text/plain": [
              "0"
            ]
          },
          "execution_count": 8,
          "metadata": {},
          "output_type": "execute_result"
        }
      ],
      "source": [
        "df.loc[df['sofifa_id'].duplicated(), 'sofifa_id'].count()"
      ]
    },
    {
      "cell_type": "markdown",
      "metadata": {
        "id": "8J_CvjR06Qgd"
      },
      "source": [
        "Cómo short_name y long_name contienen valores duplicados y sofifa_id no apora inguna información, se decide eliminar las tres columnas y usar el índice para diferenciar a los jugadores.\n",
        "\n",
        "#### (Es horrible trabajar sin el nombre de los jugadores, pero no hay  ninguna forma linda de justificar trbaajar con long_name)\n",
        "\n"
      ]
    },
    {
      "cell_type": "markdown",
      "metadata": {
        "id": "_8XFuE43EQ3w"
      },
      "source": [
        "#### Analizo columna players_positions"
      ]
    },
    {
      "cell_type": "code",
      "execution_count": 9,
      "metadata": {
        "colab": {
          "base_uri": "https://localhost:8080/"
        },
        "id": "HcPnW7QsDELF",
        "outputId": "89b49328-f0b5-4fd9-813c-335f4e6e8554"
      },
      "outputs": [
        {
          "data": {
            "text/plain": [
              "str"
            ]
          },
          "execution_count": 9,
          "metadata": {},
          "output_type": "execute_result"
        }
      ],
      "source": [
        "type(df['player_positions'][0])"
      ]
    },
    {
      "cell_type": "markdown",
      "metadata": {
        "id": "z66Yv4NGDTEz"
      },
      "source": [
        "La posicion de los jugadores está en formato String, por lo que es conveniente pasarlo a una lista que contenga las posibles posiciones de cada jugador por separado."
      ]
    },
    {
      "cell_type": "code",
      "execution_count": 10,
      "metadata": {
        "colab": {
          "base_uri": "https://localhost:8080/"
        },
        "id": "2-P-ZfsBEXI9",
        "outputId": "b123359c-c840-4dc1-b468-3638febc92ce"
      },
      "outputs": [
        {
          "data": {
            "text/plain": [
              "0    [RW, ST, CF]\n",
              "1        [ST, LW]\n",
              "2            [GK]\n",
              "3            [ST]\n",
              "4       [LW, CAM]\n",
              "Name: player_positions, dtype: object"
            ]
          },
          "execution_count": 10,
          "metadata": {},
          "output_type": "execute_result"
        }
      ],
      "source": [
        "df['player_positions']  = [item.split(', ') for item in df['player_positions']]\n",
        "df['player_positions'].head()"
      ]
    },
    {
      "cell_type": "markdown",
      "metadata": {
        "id": "13egTRyv1UBV"
      },
      "source": [
        "### Selecciono columnas para el análisis\n",
        "Entonces, procedemos a descartar las columnas que carecen de información importante (como player_url, face_id, etc), las que contienen información similar a la de otra columna y que no aporta al análisis (cómo short_name y sofifa_id cuya información se encuentra en long_name, o dob, que informa la fecha de nacimiento del jugador, y mantenemos la edad en vez), en cuánto a atributos de jugador, mantenemos las columnas principales (por ejemplo descartamos attacking_finishing pero mantenemos shooting) ya que buscamos un análisis genérico de los jugadores y consideramos que esos atributos se requerirían para un análisis más puntual por posición. Finalmente, descartamos las columnas ls, st, etc, ya que poseen información sobre como se adapta el jugador para jugar en otras posiciones, lo cuál consideramos reduntante.\n",
        "\n",
        "Se seleccionan las columnas a utilizar en el analisis:\n",
        "\n",
        "\n",
        "*   age\n",
        "*   height_cm\n",
        "*   weight_kg\n",
        "*   nationality\n",
        "*   club_name\n",
        "*   league_name\n",
        "*   league_rank\n",
        "*   team_jersey_number\n",
        "*   nation_jersey_number\n",
        "*   overall\n",
        "*   value_eur\n",
        "*   wage_eur\n",
        "*   player_positions\n",
        "*   preferred_foot\n",
        "*   skill_moves\n",
        "*   team_jersey_number\n",
        "*   pace\n",
        "*   shooting\n",
        "*   passing\n",
        "*   dribbling\n",
        "*   defending\n",
        "*   physic\n",
        "\n",
        "Por ende, en primera instancia se mantienen 22 columnas de las 106 iniciales y se eliminan los jugadores cuya posición sea GK (arquero)"
      ]
    },
    {
      "cell_type": "code",
      "execution_count": 11,
      "metadata": {
        "colab": {
          "base_uri": "https://localhost:8080/",
          "height": 756
        },
        "id": "NAjjX78z8P2f",
        "outputId": "bcac49b4-9b5d-4beb-8693-a03aa3bcd195"
      },
      "outputs": [
        {
          "name": "stdout",
          "output_type": "stream",
          "text": [
            "(16860, 22)\n"
          ]
        },
        {
          "data": {
            "text/html": [
              "<div>\n",
              "<style scoped>\n",
              "    .dataframe tbody tr th:only-of-type {\n",
              "        vertical-align: middle;\n",
              "    }\n",
              "\n",
              "    .dataframe tbody tr th {\n",
              "        vertical-align: top;\n",
              "    }\n",
              "\n",
              "    .dataframe thead th {\n",
              "        text-align: right;\n",
              "    }\n",
              "</style>\n",
              "<table border=\"1\" class=\"dataframe\">\n",
              "  <thead>\n",
              "    <tr style=\"text-align: right;\">\n",
              "      <th></th>\n",
              "      <th>0</th>\n",
              "      <th>1</th>\n",
              "      <th>3</th>\n",
              "      <th>4</th>\n",
              "      <th>5</th>\n",
              "    </tr>\n",
              "  </thead>\n",
              "  <tbody>\n",
              "    <tr>\n",
              "      <th>long_name</th>\n",
              "      <td>Lionel Andrés Messi Cuccittini</td>\n",
              "      <td>Cristiano Ronaldo dos Santos Aveiro</td>\n",
              "      <td>Robert Lewandowski</td>\n",
              "      <td>Neymar da Silva Santos Júnior</td>\n",
              "      <td>Kevin De Bruyne</td>\n",
              "    </tr>\n",
              "    <tr>\n",
              "      <th>value_eur</th>\n",
              "      <td>67500000</td>\n",
              "      <td>46000000</td>\n",
              "      <td>80000000</td>\n",
              "      <td>90000000</td>\n",
              "      <td>87000000</td>\n",
              "    </tr>\n",
              "    <tr>\n",
              "      <th>wage_eur</th>\n",
              "      <td>560000</td>\n",
              "      <td>220000</td>\n",
              "      <td>240000</td>\n",
              "      <td>270000</td>\n",
              "      <td>370000</td>\n",
              "    </tr>\n",
              "    <tr>\n",
              "      <th>age</th>\n",
              "      <td>33</td>\n",
              "      <td>35</td>\n",
              "      <td>31</td>\n",
              "      <td>28</td>\n",
              "      <td>29</td>\n",
              "    </tr>\n",
              "    <tr>\n",
              "      <th>height_cm</th>\n",
              "      <td>170</td>\n",
              "      <td>187</td>\n",
              "      <td>184</td>\n",
              "      <td>175</td>\n",
              "      <td>181</td>\n",
              "    </tr>\n",
              "    <tr>\n",
              "      <th>weight_kg</th>\n",
              "      <td>72</td>\n",
              "      <td>83</td>\n",
              "      <td>80</td>\n",
              "      <td>68</td>\n",
              "      <td>70</td>\n",
              "    </tr>\n",
              "    <tr>\n",
              "      <th>nationality</th>\n",
              "      <td>Argentina</td>\n",
              "      <td>Portugal</td>\n",
              "      <td>Poland</td>\n",
              "      <td>Brazil</td>\n",
              "      <td>Belgium</td>\n",
              "    </tr>\n",
              "    <tr>\n",
              "      <th>club_name</th>\n",
              "      <td>FC Barcelona</td>\n",
              "      <td>Juventus</td>\n",
              "      <td>FC Bayern München</td>\n",
              "      <td>Paris Saint-Germain</td>\n",
              "      <td>Manchester City</td>\n",
              "    </tr>\n",
              "    <tr>\n",
              "      <th>league_name</th>\n",
              "      <td>Spain Primera Division</td>\n",
              "      <td>Italian Serie A</td>\n",
              "      <td>German 1. Bundesliga</td>\n",
              "      <td>French Ligue 1</td>\n",
              "      <td>English Premier League</td>\n",
              "    </tr>\n",
              "    <tr>\n",
              "      <th>league_rank</th>\n",
              "      <td>1.0</td>\n",
              "      <td>1.0</td>\n",
              "      <td>1.0</td>\n",
              "      <td>1.0</td>\n",
              "      <td>1.0</td>\n",
              "    </tr>\n",
              "    <tr>\n",
              "      <th>team_jersey_number</th>\n",
              "      <td>10.0</td>\n",
              "      <td>7.0</td>\n",
              "      <td>9.0</td>\n",
              "      <td>10.0</td>\n",
              "      <td>17.0</td>\n",
              "    </tr>\n",
              "    <tr>\n",
              "      <th>nation_jersey_number</th>\n",
              "      <td>10.0</td>\n",
              "      <td>7.0</td>\n",
              "      <td>NaN</td>\n",
              "      <td>NaN</td>\n",
              "      <td>7.0</td>\n",
              "    </tr>\n",
              "    <tr>\n",
              "      <th>overall</th>\n",
              "      <td>93</td>\n",
              "      <td>92</td>\n",
              "      <td>91</td>\n",
              "      <td>91</td>\n",
              "      <td>91</td>\n",
              "    </tr>\n",
              "    <tr>\n",
              "      <th>player_positions</th>\n",
              "      <td>[RW, ST, CF]</td>\n",
              "      <td>[ST, LW]</td>\n",
              "      <td>[ST]</td>\n",
              "      <td>[LW, CAM]</td>\n",
              "      <td>[CAM, CM]</td>\n",
              "    </tr>\n",
              "    <tr>\n",
              "      <th>preferred_foot</th>\n",
              "      <td>Left</td>\n",
              "      <td>Right</td>\n",
              "      <td>Right</td>\n",
              "      <td>Right</td>\n",
              "      <td>Right</td>\n",
              "    </tr>\n",
              "    <tr>\n",
              "      <th>skill_moves</th>\n",
              "      <td>4</td>\n",
              "      <td>5</td>\n",
              "      <td>4</td>\n",
              "      <td>5</td>\n",
              "      <td>4</td>\n",
              "    </tr>\n",
              "    <tr>\n",
              "      <th>pace</th>\n",
              "      <td>85.0</td>\n",
              "      <td>89.0</td>\n",
              "      <td>78.0</td>\n",
              "      <td>91.0</td>\n",
              "      <td>76.0</td>\n",
              "    </tr>\n",
              "    <tr>\n",
              "      <th>shooting</th>\n",
              "      <td>92.0</td>\n",
              "      <td>93.0</td>\n",
              "      <td>91.0</td>\n",
              "      <td>85.0</td>\n",
              "      <td>86.0</td>\n",
              "    </tr>\n",
              "    <tr>\n",
              "      <th>passing</th>\n",
              "      <td>91.0</td>\n",
              "      <td>81.0</td>\n",
              "      <td>78.0</td>\n",
              "      <td>86.0</td>\n",
              "      <td>93.0</td>\n",
              "    </tr>\n",
              "    <tr>\n",
              "      <th>dribbling</th>\n",
              "      <td>95.0</td>\n",
              "      <td>89.0</td>\n",
              "      <td>85.0</td>\n",
              "      <td>94.0</td>\n",
              "      <td>88.0</td>\n",
              "    </tr>\n",
              "    <tr>\n",
              "      <th>defending</th>\n",
              "      <td>38.0</td>\n",
              "      <td>35.0</td>\n",
              "      <td>43.0</td>\n",
              "      <td>36.0</td>\n",
              "      <td>64.0</td>\n",
              "    </tr>\n",
              "    <tr>\n",
              "      <th>physic</th>\n",
              "      <td>65.0</td>\n",
              "      <td>77.0</td>\n",
              "      <td>82.0</td>\n",
              "      <td>59.0</td>\n",
              "      <td>78.0</td>\n",
              "    </tr>\n",
              "  </tbody>\n",
              "</table>\n",
              "</div>"
            ],
            "text/plain": [
              "                                                   0  \\\n",
              "long_name             Lionel Andrés Messi Cuccittini   \n",
              "value_eur                                   67500000   \n",
              "wage_eur                                      560000   \n",
              "age                                               33   \n",
              "height_cm                                        170   \n",
              "weight_kg                                         72   \n",
              "nationality                                Argentina   \n",
              "club_name                               FC Barcelona   \n",
              "league_name                   Spain Primera Division   \n",
              "league_rank                                      1.0   \n",
              "team_jersey_number                              10.0   \n",
              "nation_jersey_number                            10.0   \n",
              "overall                                           93   \n",
              "player_positions                        [RW, ST, CF]   \n",
              "preferred_foot                                  Left   \n",
              "skill_moves                                        4   \n",
              "pace                                            85.0   \n",
              "shooting                                        92.0   \n",
              "passing                                         91.0   \n",
              "dribbling                                       95.0   \n",
              "defending                                       38.0   \n",
              "physic                                          65.0   \n",
              "\n",
              "                                                        1  \\\n",
              "long_name             Cristiano Ronaldo dos Santos Aveiro   \n",
              "value_eur                                        46000000   \n",
              "wage_eur                                           220000   \n",
              "age                                                    35   \n",
              "height_cm                                             187   \n",
              "weight_kg                                              83   \n",
              "nationality                                      Portugal   \n",
              "club_name                                        Juventus   \n",
              "league_name                               Italian Serie A   \n",
              "league_rank                                           1.0   \n",
              "team_jersey_number                                    7.0   \n",
              "nation_jersey_number                                  7.0   \n",
              "overall                                                92   \n",
              "player_positions                                 [ST, LW]   \n",
              "preferred_foot                                      Right   \n",
              "skill_moves                                             5   \n",
              "pace                                                 89.0   \n",
              "shooting                                             93.0   \n",
              "passing                                              81.0   \n",
              "dribbling                                            89.0   \n",
              "defending                                            35.0   \n",
              "physic                                               77.0   \n",
              "\n",
              "                                         3                              4  \\\n",
              "long_name               Robert Lewandowski  Neymar da Silva Santos Júnior   \n",
              "value_eur                         80000000                       90000000   \n",
              "wage_eur                            240000                         270000   \n",
              "age                                     31                             28   \n",
              "height_cm                              184                            175   \n",
              "weight_kg                               80                             68   \n",
              "nationality                         Poland                         Brazil   \n",
              "club_name                FC Bayern München            Paris Saint-Germain   \n",
              "league_name           German 1. Bundesliga                 French Ligue 1   \n",
              "league_rank                            1.0                            1.0   \n",
              "team_jersey_number                     9.0                           10.0   \n",
              "nation_jersey_number                   NaN                            NaN   \n",
              "overall                                 91                             91   \n",
              "player_positions                      [ST]                      [LW, CAM]   \n",
              "preferred_foot                       Right                          Right   \n",
              "skill_moves                              4                              5   \n",
              "pace                                  78.0                           91.0   \n",
              "shooting                              91.0                           85.0   \n",
              "passing                               78.0                           86.0   \n",
              "dribbling                             85.0                           94.0   \n",
              "defending                             43.0                           36.0   \n",
              "physic                                82.0                           59.0   \n",
              "\n",
              "                                           5  \n",
              "long_name                    Kevin De Bruyne  \n",
              "value_eur                           87000000  \n",
              "wage_eur                              370000  \n",
              "age                                       29  \n",
              "height_cm                                181  \n",
              "weight_kg                                 70  \n",
              "nationality                          Belgium  \n",
              "club_name                    Manchester City  \n",
              "league_name           English Premier League  \n",
              "league_rank                              1.0  \n",
              "team_jersey_number                      17.0  \n",
              "nation_jersey_number                     7.0  \n",
              "overall                                   91  \n",
              "player_positions                   [CAM, CM]  \n",
              "preferred_foot                         Right  \n",
              "skill_moves                                4  \n",
              "pace                                    76.0  \n",
              "shooting                                86.0  \n",
              "passing                                 93.0  \n",
              "dribbling                               88.0  \n",
              "defending                               64.0  \n",
              "physic                                  78.0  "
            ]
          },
          "execution_count": 11,
          "metadata": {},
          "output_type": "execute_result"
        }
      ],
      "source": [
        "columnas = ['long_name', 'value_eur', 'wage_eur','age', 'height_cm', 'weight_kg', \n",
        "            'nationality', 'club_name', 'league_name', 'league_rank', \n",
        "            'team_jersey_number', 'nation_jersey_number', 'overall', \n",
        "            'player_positions', 'preferred_foot', 'skill_moves', \n",
        "            'pace', 'shooting', 'passing', 'dribbling', 'defending', 'physic']\n",
        "\n",
        "df = df.loc[['GK' not in item for item in df['player_positions']], columnas]\n",
        "\n",
        "print(df.shape)\n",
        "df.head().transpose()"
      ]
    },
    {
      "cell_type": "markdown",
      "metadata": {},
      "source": [
        "## Plan de Análisis\n",
        "Establecidas las columnas a utilizar en el análisis, se procede a establecer un plan de análisis. Primero se realizará..."
      ]
    },
    {
      "cell_type": "code",
      "execution_count": null,
      "metadata": {},
      "outputs": [],
      "source": []
    },
    {
      "cell_type": "markdown",
      "metadata": {},
      "source": [
        "plt.figure(figsize=(10,5))\n",
        "c = df.corr()\n",
        "sns.heatmap(c,cmap=\"BrBG\",annot=True)\n"
      ]
    },
    {
      "cell_type": "code",
      "execution_count": 40,
      "metadata": {},
      "outputs": [
        {
          "ename": "ValueError",
          "evalue": "'team_jersey_number' is both an index level and a column label, which is ambiguous.",
          "output_type": "error",
          "traceback": [
            "\u001b[1;31m---------------------------------------------------------------------------\u001b[0m",
            "\u001b[1;31mValueError\u001b[0m                                Traceback (most recent call last)",
            "\u001b[1;32m~\\AppData\\Local\\Temp/ipykernel_16748/689854693.py\u001b[0m in \u001b[0;36m<module>\u001b[1;34m\u001b[0m\n\u001b[1;32m----> 1\u001b[1;33m \u001b[0mdf_avg_val_numero_camiseta\u001b[0m \u001b[1;33m=\u001b[0m \u001b[0mdf\u001b[0m\u001b[1;33m.\u001b[0m\u001b[0mgroupby\u001b[0m\u001b[1;33m(\u001b[0m\u001b[1;33m[\u001b[0m\u001b[1;34m'team_jersey_number'\u001b[0m\u001b[1;33m]\u001b[0m\u001b[1;33m)\u001b[0m\u001b[1;33m.\u001b[0m\u001b[0magg\u001b[0m\u001b[1;33m(\u001b[0m\u001b[1;33m{\u001b[0m\u001b[1;34m'value_eur'\u001b[0m\u001b[1;33m:\u001b[0m\u001b[1;34m'mean'\u001b[0m\u001b[1;33m,\u001b[0m \u001b[1;34m'team_jersey_number'\u001b[0m\u001b[1;33m:\u001b[0m\u001b[1;34m'count'\u001b[0m\u001b[1;33m}\u001b[0m\u001b[1;33m)\u001b[0m\u001b[1;33m.\u001b[0m\u001b[0msort_values\u001b[0m\u001b[1;33m(\u001b[0m\u001b[1;33m[\u001b[0m\u001b[1;34m'team_jersey_number'\u001b[0m\u001b[1;33m]\u001b[0m\u001b[1;33m,\u001b[0m\u001b[0mascending\u001b[0m\u001b[1;33m=\u001b[0m\u001b[1;32mFalse\u001b[0m\u001b[1;33m)\u001b[0m\u001b[1;33m\u001b[0m\u001b[1;33m\u001b[0m\u001b[0m\n\u001b[0m\u001b[0;32m      2\u001b[0m \u001b[0mdf_avg_val_numero_camiseta\u001b[0m\u001b[1;33m.\u001b[0m\u001b[0mcolumns\u001b[0m \u001b[1;33m=\u001b[0m \u001b[1;33m[\u001b[0m\u001b[1;34m'mean_value'\u001b[0m\u001b[1;33m,\u001b[0m \u001b[1;34m'count'\u001b[0m\u001b[1;33m]\u001b[0m\u001b[1;33m\u001b[0m\u001b[1;33m\u001b[0m\u001b[0m\n\u001b[0;32m      3\u001b[0m \u001b[0msns\u001b[0m\u001b[1;33m.\u001b[0m\u001b[0mbarplot\u001b[0m\u001b[1;33m(\u001b[0m\u001b[0mx\u001b[0m\u001b[1;33m=\u001b[0m\u001b[0mdf_avg_val_numero_camiseta\u001b[0m\u001b[1;33m.\u001b[0m\u001b[0mhead\u001b[0m\u001b[1;33m(\u001b[0m\u001b[1;36m10\u001b[0m\u001b[1;33m)\u001b[0m\u001b[1;33m.\u001b[0m\u001b[0mindex\u001b[0m\u001b[1;33m,\u001b[0m \u001b[0my\u001b[0m \u001b[1;33m=\u001b[0m \u001b[0mdf_avg_val_numero_camiseta\u001b[0m\u001b[1;33m[\u001b[0m\u001b[1;34m'mean_value'\u001b[0m\u001b[1;33m]\u001b[0m\u001b[1;33m.\u001b[0m\u001b[0mhead\u001b[0m\u001b[1;33m(\u001b[0m\u001b[1;36m10\u001b[0m\u001b[1;33m)\u001b[0m\u001b[1;33m)\u001b[0m\u001b[1;33m\u001b[0m\u001b[1;33m\u001b[0m\u001b[0m\n\u001b[0;32m      4\u001b[0m \u001b[0msns\u001b[0m\u001b[1;33m.\u001b[0m\u001b[0mset\u001b[0m\u001b[1;33m(\u001b[0m\u001b[0mrc\u001b[0m\u001b[1;33m=\u001b[0m\u001b[1;33m{\u001b[0m\u001b[1;34m'figure.figsize'\u001b[0m\u001b[1;33m:\u001b[0m\u001b[1;33m(\u001b[0m\u001b[1;36m32\u001b[0m\u001b[1;33m,\u001b[0m\u001b[1;36m8.27\u001b[0m\u001b[1;33m)\u001b[0m\u001b[1;33m}\u001b[0m\u001b[1;33m)\u001b[0m\u001b[1;33m\u001b[0m\u001b[1;33m\u001b[0m\u001b[0m\n",
            "\u001b[1;32m~\\AppData\\Local\\Packages\\PythonSoftwareFoundation.Python.3.9_qbz5n2kfra8p0\\LocalCache\\local-packages\\Python39\\site-packages\\pandas\\util\\_decorators.py\u001b[0m in \u001b[0;36mwrapper\u001b[1;34m(*args, **kwargs)\u001b[0m\n\u001b[0;32m    329\u001b[0m                     \u001b[0mstacklevel\u001b[0m\u001b[1;33m=\u001b[0m\u001b[0mfind_stack_level\u001b[0m\u001b[1;33m(\u001b[0m\u001b[1;33m)\u001b[0m\u001b[1;33m,\u001b[0m\u001b[1;33m\u001b[0m\u001b[1;33m\u001b[0m\u001b[0m\n\u001b[0;32m    330\u001b[0m                 )\n\u001b[1;32m--> 331\u001b[1;33m             \u001b[1;32mreturn\u001b[0m \u001b[0mfunc\u001b[0m\u001b[1;33m(\u001b[0m\u001b[1;33m*\u001b[0m\u001b[0margs\u001b[0m\u001b[1;33m,\u001b[0m \u001b[1;33m**\u001b[0m\u001b[0mkwargs\u001b[0m\u001b[1;33m)\u001b[0m\u001b[1;33m\u001b[0m\u001b[1;33m\u001b[0m\u001b[0m\n\u001b[0m\u001b[0;32m    332\u001b[0m \u001b[1;33m\u001b[0m\u001b[0m\n\u001b[0;32m    333\u001b[0m         \u001b[1;31m# error: \"Callable[[VarArg(Any), KwArg(Any)], Any]\" has no\u001b[0m\u001b[1;33m\u001b[0m\u001b[1;33m\u001b[0m\u001b[0m\n",
            "\u001b[1;32m~\\AppData\\Local\\Packages\\PythonSoftwareFoundation.Python.3.9_qbz5n2kfra8p0\\LocalCache\\local-packages\\Python39\\site-packages\\pandas\\core\\frame.py\u001b[0m in \u001b[0;36msort_values\u001b[1;34m(self, by, axis, ascending, inplace, kind, na_position, ignore_index, key)\u001b[0m\n\u001b[0;32m   6899\u001b[0m \u001b[1;33m\u001b[0m\u001b[0m\n\u001b[0;32m   6900\u001b[0m             \u001b[0mby\u001b[0m \u001b[1;33m=\u001b[0m \u001b[0mby\u001b[0m\u001b[1;33m[\u001b[0m\u001b[1;36m0\u001b[0m\u001b[1;33m]\u001b[0m\u001b[1;33m\u001b[0m\u001b[1;33m\u001b[0m\u001b[0m\n\u001b[1;32m-> 6901\u001b[1;33m             \u001b[0mk\u001b[0m \u001b[1;33m=\u001b[0m \u001b[0mself\u001b[0m\u001b[1;33m.\u001b[0m\u001b[0m_get_label_or_level_values\u001b[0m\u001b[1;33m(\u001b[0m\u001b[0mby\u001b[0m\u001b[1;33m,\u001b[0m \u001b[0maxis\u001b[0m\u001b[1;33m=\u001b[0m\u001b[0maxis\u001b[0m\u001b[1;33m)\u001b[0m\u001b[1;33m\u001b[0m\u001b[1;33m\u001b[0m\u001b[0m\n\u001b[0m\u001b[0;32m   6902\u001b[0m \u001b[1;33m\u001b[0m\u001b[0m\n\u001b[0;32m   6903\u001b[0m             \u001b[1;31m# need to rewrap column in Series to apply key function\u001b[0m\u001b[1;33m\u001b[0m\u001b[1;33m\u001b[0m\u001b[0m\n",
            "\u001b[1;32m~\\AppData\\Local\\Packages\\PythonSoftwareFoundation.Python.3.9_qbz5n2kfra8p0\\LocalCache\\local-packages\\Python39\\site-packages\\pandas\\core\\generic.py\u001b[0m in \u001b[0;36m_get_label_or_level_values\u001b[1;34m(self, key, axis)\u001b[0m\n\u001b[0;32m   1836\u001b[0m \u001b[1;33m\u001b[0m\u001b[0m\n\u001b[0;32m   1837\u001b[0m         \u001b[1;32mif\u001b[0m \u001b[0mself\u001b[0m\u001b[1;33m.\u001b[0m\u001b[0m_is_label_reference\u001b[0m\u001b[1;33m(\u001b[0m\u001b[0mkey\u001b[0m\u001b[1;33m,\u001b[0m \u001b[0maxis\u001b[0m\u001b[1;33m=\u001b[0m\u001b[0maxis\u001b[0m\u001b[1;33m)\u001b[0m\u001b[1;33m:\u001b[0m\u001b[1;33m\u001b[0m\u001b[1;33m\u001b[0m\u001b[0m\n\u001b[1;32m-> 1838\u001b[1;33m             \u001b[0mself\u001b[0m\u001b[1;33m.\u001b[0m\u001b[0m_check_label_or_level_ambiguity\u001b[0m\u001b[1;33m(\u001b[0m\u001b[0mkey\u001b[0m\u001b[1;33m,\u001b[0m \u001b[0maxis\u001b[0m\u001b[1;33m=\u001b[0m\u001b[0maxis\u001b[0m\u001b[1;33m)\u001b[0m\u001b[1;33m\u001b[0m\u001b[1;33m\u001b[0m\u001b[0m\n\u001b[0m\u001b[0;32m   1839\u001b[0m             \u001b[0mvalues\u001b[0m \u001b[1;33m=\u001b[0m \u001b[0mself\u001b[0m\u001b[1;33m.\u001b[0m\u001b[0mxs\u001b[0m\u001b[1;33m(\u001b[0m\u001b[0mkey\u001b[0m\u001b[1;33m,\u001b[0m \u001b[0maxis\u001b[0m\u001b[1;33m=\u001b[0m\u001b[0mother_axes\u001b[0m\u001b[1;33m[\u001b[0m\u001b[1;36m0\u001b[0m\u001b[1;33m]\u001b[0m\u001b[1;33m)\u001b[0m\u001b[1;33m.\u001b[0m\u001b[0m_values\u001b[0m\u001b[1;33m\u001b[0m\u001b[1;33m\u001b[0m\u001b[0m\n\u001b[0;32m   1840\u001b[0m         \u001b[1;32melif\u001b[0m \u001b[0mself\u001b[0m\u001b[1;33m.\u001b[0m\u001b[0m_is_level_reference\u001b[0m\u001b[1;33m(\u001b[0m\u001b[0mkey\u001b[0m\u001b[1;33m,\u001b[0m \u001b[0maxis\u001b[0m\u001b[1;33m=\u001b[0m\u001b[0maxis\u001b[0m\u001b[1;33m)\u001b[0m\u001b[1;33m:\u001b[0m\u001b[1;33m\u001b[0m\u001b[1;33m\u001b[0m\u001b[0m\n",
            "\u001b[1;32m~\\AppData\\Local\\Packages\\PythonSoftwareFoundation.Python.3.9_qbz5n2kfra8p0\\LocalCache\\local-packages\\Python39\\site-packages\\pandas\\core\\generic.py\u001b[0m in \u001b[0;36m_check_label_or_level_ambiguity\u001b[1;34m(self, key, axis)\u001b[0m\n\u001b[0;32m   1795\u001b[0m                 \u001b[1;34mf\"{label_article} {label_type} label, which is ambiguous.\"\u001b[0m\u001b[1;33m\u001b[0m\u001b[1;33m\u001b[0m\u001b[0m\n\u001b[0;32m   1796\u001b[0m             )\n\u001b[1;32m-> 1797\u001b[1;33m             \u001b[1;32mraise\u001b[0m \u001b[0mValueError\u001b[0m\u001b[1;33m(\u001b[0m\u001b[0mmsg\u001b[0m\u001b[1;33m)\u001b[0m\u001b[1;33m\u001b[0m\u001b[1;33m\u001b[0m\u001b[0m\n\u001b[0m\u001b[0;32m   1798\u001b[0m \u001b[1;33m\u001b[0m\u001b[0m\n\u001b[0;32m   1799\u001b[0m     \u001b[1;33m@\u001b[0m\u001b[0mfinal\u001b[0m\u001b[1;33m\u001b[0m\u001b[1;33m\u001b[0m\u001b[0m\n",
            "\u001b[1;31mValueError\u001b[0m: 'team_jersey_number' is both an index level and a column label, which is ambiguous."
          ]
        }
      ],
      "source": [
        "df_avg_val_numero_camiseta = df.groupby(['team_jersey_number']).agg({'value_eur':'mean', 'team_jersey_number':'count'}).sort_values(['value_eur'],ascending=False)\n",
        "df_avg_val_numero_camiseta.columns = ['mean_value', 'count']\n",
        "sns.barplot(x=df_avg_val_numero_camiseta.head(10).index, y = df_avg_val_numero_camiseta['mean_value'].head(10))\n",
        "sns.set(rc={'figure.figsize':(32,8.27)})"
      ]
    },
    {
      "cell_type": "code",
      "execution_count": 38,
      "metadata": {},
      "outputs": [
        {
          "data": {
            "text/html": [
              "<div>\n",
              "<style scoped>\n",
              "    .dataframe tbody tr th:only-of-type {\n",
              "        vertical-align: middle;\n",
              "    }\n",
              "\n",
              "    .dataframe tbody tr th {\n",
              "        vertical-align: top;\n",
              "    }\n",
              "\n",
              "    .dataframe thead th {\n",
              "        text-align: right;\n",
              "    }\n",
              "</style>\n",
              "<table border=\"1\" class=\"dataframe\">\n",
              "  <thead>\n",
              "    <tr style=\"text-align: right;\">\n",
              "      <th></th>\n",
              "      <th>mean_value</th>\n",
              "      <th>count</th>\n",
              "    </tr>\n",
              "    <tr>\n",
              "      <th>team_jersey_number</th>\n",
              "      <th></th>\n",
              "      <th></th>\n",
              "    </tr>\n",
              "  </thead>\n",
              "  <tbody>\n",
              "    <tr>\n",
              "      <th>59.0</th>\n",
              "      <td>6.315000e+06</td>\n",
              "      <td>5</td>\n",
              "    </tr>\n",
              "    <tr>\n",
              "      <th>95.0</th>\n",
              "      <td>4.712500e+06</td>\n",
              "      <td>8</td>\n",
              "    </tr>\n",
              "    <tr>\n",
              "      <th>10.0</th>\n",
              "      <td>4.695891e+06</td>\n",
              "      <td>589</td>\n",
              "    </tr>\n",
              "    <tr>\n",
              "      <th>7.0</th>\n",
              "      <td>3.692131e+06</td>\n",
              "      <td>603</td>\n",
              "    </tr>\n",
              "    <tr>\n",
              "      <th>81.0</th>\n",
              "      <td>3.625000e+06</td>\n",
              "      <td>7</td>\n",
              "    </tr>\n",
              "    <tr>\n",
              "      <th>66.0</th>\n",
              "      <td>3.610833e+06</td>\n",
              "      <td>24</td>\n",
              "    </tr>\n",
              "    <tr>\n",
              "      <th>91.0</th>\n",
              "      <td>3.552857e+06</td>\n",
              "      <td>14</td>\n",
              "    </tr>\n",
              "    <tr>\n",
              "      <th>9.0</th>\n",
              "      <td>3.497543e+06</td>\n",
              "      <td>584</td>\n",
              "    </tr>\n",
              "    <tr>\n",
              "      <th>98.0</th>\n",
              "      <td>3.378800e+06</td>\n",
              "      <td>25</td>\n",
              "    </tr>\n",
              "    <tr>\n",
              "      <th>11.0</th>\n",
              "      <td>3.249733e+06</td>\n",
              "      <td>600</td>\n",
              "    </tr>\n",
              "  </tbody>\n",
              "</table>\n",
              "</div>"
            ],
            "text/plain": [
              "                      mean_value  count\n",
              "team_jersey_number                     \n",
              "59.0                6.315000e+06      5\n",
              "95.0                4.712500e+06      8\n",
              "10.0                4.695891e+06    589\n",
              "7.0                 3.692131e+06    603\n",
              "81.0                3.625000e+06      7\n",
              "66.0                3.610833e+06     24\n",
              "91.0                3.552857e+06     14\n",
              "9.0                 3.497543e+06    584\n",
              "98.0                3.378800e+06     25\n",
              "11.0                3.249733e+06    600"
            ]
          },
          "execution_count": 38,
          "metadata": {},
          "output_type": "execute_result"
        }
      ],
      "source": [
        "df_count_numero_camiseta = df.pivot_table(values='value_eur', index=\"team_jersey_number\", aggfunc=[np.mean, 'count'])\n",
        "df_avg_val_numero_camiseta\n"
      ]
    }
  ],
  "metadata": {
    "colab": {
      "collapsed_sections": [],
      "provenance": []
    },
    "kernelspec": {
      "display_name": "Python 3.9.13 64-bit (microsoft store)",
      "language": "python",
      "name": "python3"
    },
    "language_info": {
      "codemirror_mode": {
        "name": "ipython",
        "version": 3
      },
      "file_extension": ".py",
      "mimetype": "text/x-python",
      "name": "python",
      "nbconvert_exporter": "python",
      "pygments_lexer": "ipython3",
      "version": "3.9.13"
    },
    "vscode": {
      "interpreter": {
        "hash": "c938b95426be367880cf82de4a5d5a58a064671d1f2151bbbf11247b6690e1f5"
      }
    }
  },
  "nbformat": 4,
  "nbformat_minor": 0
}
